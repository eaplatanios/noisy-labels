{
 "cells": [
  {
   "cell_type": "code",
   "execution_count": 3,
   "metadata": {},
   "outputs": [],
   "source": [
    "import numpy as np\n",
    "import os\n",
    "import scipy.sparse as sp"
   ]
  },
  {
   "cell_type": "code",
   "execution_count": 29,
   "metadata": {},
   "outputs": [],
   "source": [
    "dataset = 'disease_nc'\n",
    "val_prop, test_prop = 0.10, 0.60\n",
    "np.random.seed(1234)\n",
    "\n",
    "edges = np.loadtxt(dataset + '.edges.csv', dtype=np.int32, delimiter=',')\n",
    "features = np.array(sp.csr_matrix.todense(sp.load_npz(dataset + '.feats.npz')))\n",
    "labels = np.load(dataset + '.labels.npy')"
   ]
  },
  {
   "cell_type": "code",
   "execution_count": 33,
   "metadata": {},
   "outputs": [
    {
     "name": "stdout",
     "output_type": "stream",
     "text": [
      "211\n",
      "21\n",
      "127\n",
      "211\n",
      "833\n",
      "42\n",
      "254\n",
      "748\n"
     ]
    }
   ],
   "source": [
    "# Create data splits.\n",
    "nb_nodes = labels.shape[0]\n",
    "all_idx = np.arange(nb_nodes)\n",
    "pos_idx = labels.nonzero()[0]\n",
    "neg_idx = (1. - labels).nonzero()[0]\n",
    "np.random.shuffle(pos_idx)\n",
    "np.random.shuffle(neg_idx)\n",
    "pos_idx = pos_idx.tolist()\n",
    "neg_idx = neg_idx.tolist()\n",
    "nb_pos_neg = min(len(pos_idx), len(neg_idx))\n",
    "nb_val = round(val_prop * nb_pos_neg)\n",
    "nb_test = round(test_prop * nb_pos_neg)\n",
    "idx_val_pos = pos_idx[:nb_val]\n",
    "idx_test_pos = pos_idx[nb_val:nb_val + nb_test]\n",
    "idx_train_pos = pos_idx[nb_val + nb_test:]\n",
    "idx_val_neg = neg_idx[:nb_val]\n",
    "idx_test_neg = neg_idx[nb_val:nb_val + nb_test]\n",
    "idx_train_neg = neg_idx[nb_val + nb_test:]\n",
    "idx_val = idx_val_pos + idx_val_neg\n",
    "idx_test = idx_test_pos + idx_test_neg\n",
    "idx_train = idx_train_pos + idx_train_neg"
   ]
  },
  {
   "cell_type": "code",
   "execution_count": 25,
   "metadata": {},
   "outputs": [],
   "source": [
    "dataset_dir = os.path.join(os.getcwd(), dataset)\n",
    "if not os.path.exists(dataset_dir):\n",
    "    os.mkdir(dataset_dir)\n",
    "with open(os.path.join(dataset_dir, 'edges.txt'), 'w') as f:\n",
    "    for edge in edges:\n",
    "        f.write(str(edge[0]) + '\\t' + str(edge[1]) + '\\t1.000000\\n')\n",
    "with open(os.path.join(dataset_dir, 'labels.txt'), 'w') as f:\n",
    "    for idx in idx_train:\n",
    "        f.write(str(idx) + '\\t' + str(int(labels[idx])) + '\\ttrain\\n')\n",
    "    for idx in idx_val:\n",
    "        f.write(str(idx) + '\\t' + str(int(labels[idx])) + '\\tval\\n')\n",
    "    for idx in idx_test:\n",
    "        f.write(str(idx) + '\\t' + str(int(labels[idx])) + '\\ttest\\n')\n",
    "with open(os.path.join(dataset_dir, 'features.txt'), 'w') as f:\n",
    "    for idx, idx_features in enumerate(features):\n",
    "        f.write(str(idx) + '\\t' + ' '.join([str(idx_f) for idx_f in idx_features]) + '\\n')"
   ]
  },
  {
   "cell_type": "code",
   "execution_count": null,
   "metadata": {},
   "outputs": [],
   "source": []
  }
 ],
 "metadata": {
  "kernelspec": {
   "display_name": "Python 3",
   "language": "python",
   "name": "python3"
  },
  "language_info": {
   "codemirror_mode": {
    "name": "ipython",
    "version": 3
   },
   "file_extension": ".py",
   "mimetype": "text/x-python",
   "name": "python",
   "nbconvert_exporter": "python",
   "pygments_lexer": "ipython3",
   "version": "3.7.4"
  }
 },
 "nbformat": 4,
 "nbformat_minor": 2
}
